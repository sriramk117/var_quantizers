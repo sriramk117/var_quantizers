{
 "cells": [
  {
   "cell_type": "markdown",
   "metadata": {
    "collapsed": false
   },
   "source": [
    "### 🚀 For an interactive experience, head over to our [demo platform](https://var.vision/demo) and dive right in! 🌟"
   ]
  },
  {
   "cell_type": "code",
   "execution_count": 1,
   "metadata": {
    "collapsed": false,
    "is_executing": true
   },
   "outputs": [
    {
     "name": "stderr",
     "output_type": "stream",
     "text": [
      "/root/FSQ/.venv/lib/python3.10/site-packages/tqdm/auto.py:21: TqdmWarning: IProgress not found. Please update jupyter and ipywidgets. See https://ipywidgets.readthedocs.io/en/stable/user_install.html\n",
      "  from .autonotebook import tqdm as notebook_tqdm\n"
     ]
    },
    {
     "name": "stdout",
     "output_type": "stream",
     "text": [
      "[init_weights] VAR with init_std=0.0180422\n",
      "Keys in var_ckpt: dict_keys(['epoch', 'iter', 'trainer', 'args'])\n",
      "trainer: OrderedDict([('data_path', 'imagenette2'), ('exp_name', 'text'), ('vfast', 0), ('tfast', 0), ('depth', 16), ('ini', -1), ('hd', 0.02), ('aln', 0.5), ('alng', 0.001), ('fp16', 1), ('tblr', 0.0001), ('tlr', 3.125e-05), ('twd', 0.05), ('twde', 0.05), ('tclip', 2.0), ('ls', 0.0), ('bs', 80), ('batch_size', 20), ('glb_batch_size', 80), ('ac', 1), ('ep', 50), ('wp', 1.0), ('wp0', 0.005), ('wpe', 0.1), ('sche', 'lin0'), ('opt', 'adamw'), ('afuse', True), ('saln', False), ('anorm', True), ('fuse', True), ('pn', '1_2_3_4_5_6_8_10_13_16'), ('patch_size', 16), ('patch_nums', (1, 2, 3, 4, 5, 6, 8, 10, 13, 16)), ('resos', (16, 32, 48, 64, 80, 96, 128, 160, 208, 256)), ('data_load_reso', 256), ('mid_reso', 1.125), ('hflip', False), ('workers', 2), ('pg', 0.0), ('pg0', 4), ('pgwp', 0.16666666666666666), ('cmd', '--data_path=imagenette2 --device=cuda --depth=16 --bs=80 --ep=50 --fp16=1 --alng=1e-3 --wpe=0.1 --workers=2'), ('branch', 'vae_training'), ('commit_id', '9235a3217a3203df28e4526ff29e6db77b15e553'), ('commit_msg', 'multi gpu train code'), ('acc_mean', 4.49117629788816), ('acc_tail', 3.3134765829890966), ('L_mean', 8.09694001674652), ('L_tail', 8.267798829078675), ('vacc_mean', 3.9282877445220947), ('vacc_tail', 2.9476511478424072), ('vL_mean', 8.161954879760742), ('vL_tail', 8.310379028320312), ('grad_norm', 1.2220738410949707), ('cur_lr', 3.125e-06), ('cur_wd', 0.05), ('cur_it', '119/119'), ('cur_ep', '50/50'), ('remain_time', '0:00:09'), ('finish_time', '2025-06-07 21:50'), ('local_out_dir_path', '/root/FSQ/var_quantizers/local_output'), ('tb_log_dir_path', '/root/FSQ/var_quantizers/local_output/tb-VARd16__pn1_2_3_4_5_6_8_10_13_16__b80ep50adamlr0.0001wd0.05'), ('log_txt_path', '/root/FSQ/var_quantizers/local_output/log.txt'), ('last_ckpt_path', '/root/FSQ/var_quantizers/local_output/ar-ckpt-last.pth'), ('tf32', True), ('seed', None), ('same_seed_for_all_ranks', 0), ('local_debug', False), ('dbg_nan', False)])\n",
      "prepare finished.\n"
     ]
    }
   ],
   "source": [
    "################## 1. Download checkpoints and build models\n",
    "import os\n",
    "import os.path as osp\n",
    "import torch, torchvision\n",
    "import random\n",
    "import numpy as np\n",
    "import PIL.Image as PImage, PIL.ImageDraw as PImageDraw\n",
    "setattr(torch.nn.Linear, 'reset_parameters', lambda self: None)     # disable default parameter init for faster speed\n",
    "setattr(torch.nn.LayerNorm, 'reset_parameters', lambda self: None)  # disable default parameter init for faster speed\n",
    "from models import VQVAE, build_vae_var\n",
    "\n",
    "MODEL_DEPTH = 16    # TODO: =====> please specify MODEL_DEPTH <=====\n",
    "assert MODEL_DEPTH in {16, 20, 24, 30}\n",
    "\n",
    "\n",
    "# download checkpoint\n",
    "hf_home = 'https://huggingface.co/FoundationVision/var/resolve/main'\n",
    "vae_ckpt, var_ckpt = 'fsq-n_embed_64k.pt', 'ar-ckpt-best.pth'\n",
    "if not osp.exists(vae_ckpt): os.system(f'wget {hf_home}/{vae_ckpt}')\n",
    "if not osp.exists(var_ckpt): os.system(f'wget {hf_home}/{var_ckpt}')\n",
    "\n",
    "# build vae, var\n",
    "patch_nums = (1, 2, 3, 4, 5, 6, 8, 10, 13, 16)\n",
    "device = 'cuda' if torch.cuda.is_available() else 'cpu'\n",
    "if 'vae' not in globals() or 'var' not in globals():\n",
    "    vae, var = build_vae_var(\n",
    "        V=4096, Cvae=6, ch=128, share_quant_resi=6, levels = [8, 8, 8, 5, 5, 5],  # hard-coded VQVAE hyperparameters\n",
    "        device=device, patch_nums=patch_nums,\n",
    "        num_classes=1000, depth=MODEL_DEPTH, shared_aln=False,\n",
    "    )\n",
    "\n",
    "var_checkpoint_data = torch.load(var_ckpt, map_location='cpu')\n",
    "print(\"Keys in var_ckpt:\", var_checkpoint_data.keys())\n",
    "print(\"trainer:\", var_checkpoint_data['args'])\n",
    "# load checkpoints\n",
    "var_model_state_dict = var_checkpoint_data['trainer']['var_wo_ddp']\n",
    "vae.load_state_dict(torch.load(vae_ckpt, map_location='cpu'), strict=True)\n",
    "var.load_state_dict(var_model_state_dict, strict=True)\n",
    "vae.eval(), var.eval()\n",
    "for p in vae.parameters(): p.requires_grad_(False)\n",
    "for p in var.parameters(): p.requires_grad_(False)\n",
    "print(f'prepare finished.')"
   ]
  },
  {
   "cell_type": "code",
   "execution_count": null,
   "metadata": {
    "collapsed": false
   },
   "outputs": [
    {
     "name": "stdout",
     "output_type": "stream",
     "text": [
      "[VQVAE.indices_to_img] self.fsq.dim: 6\n",
      "[VQVAE.indices_to_img] self.fsq.num_codebooks: 1\n",
      "[VQVAE.indices_to_img] self.fsq.project_out: Identity()\n",
      "[VQVAE.indices_to_img] input indices shape: torch.Size([2, 256])\n",
      "[VQVAE.indices_to_img] quant shape after fsq.indices_to_codes: torch.Size([2, 256, 6])\n",
      "[VQVAE.indices_to_img] quant shape after reshape: torch.Size([2, 6, 16, 16])\n"
     ]
    },
    {
     "name": "stderr",
     "output_type": "stream",
     "text": [
      "/tmp/ipykernel_14442/4178728188.py:33: RuntimeWarning: invalid value encountered in cast\n",
      "  chw = PImage.fromarray(chw.astype(np.uint8))\n"
     ]
    },
    {
     "data": {
      "image/jpeg": "[encoded data removed]",
      "image/png": "[encoded data removed]",
      "text/plain": [
       "<PIL.Image.Image image mode=RGB size=256x128>"
      ]
     },
     "metadata": {},
     "output_type": "display_data"
    }
   ],
   "source": [
    "############################# 2. Sample with classifier-free guidance\n",
    "\n",
    "# set args\n",
    "seed = 0 #@param {type:\"number\"}\n",
    "torch.manual_seed(seed)\n",
    "num_sampling_steps = 250 #@param {type:\"slider\", min:0, max:1000, step:1}\n",
    "cfg = 4 #@param {type:\"slider\", min:1, max:10, step:0.1}\n",
    "class_labels = (382, 38)  #382 is chainsaw in imagenette\n",
    "more_smooth = False # True for more smooth output\n",
    "\n",
    "# seed\n",
    "torch.manual_seed(seed)\n",
    "random.seed(seed)\n",
    "np.random.seed(seed)\n",
    "torch.backends.cudnn.deterministic = True\n",
    "torch.backends.cudnn.benchmark = False\n",
    "\n",
    "# run faster\n",
    "tf32 = True\n",
    "torch.backends.cudnn.allow_tf32 = bool(tf32)\n",
    "torch.backends.cuda.matmul.allow_tf32 = bool(tf32)\n",
    "torch.set_float32_matmul_precision('high' if tf32 else 'highest')\n",
    "\n",
    "# sample\n",
    "B = len(class_labels)\n",
    "label_B: torch.LongTensor = torch.tensor(class_labels, device=device)\n",
    "with torch.inference_mode():\n",
    "    with torch.autocast('cuda', enabled=True, dtype=torch.float16, cache_enabled=True):    # using bfloat16 can be faster\n",
    "        recon_B3HW = var.autoregressive_infer_cfg(B=B, label_B=label_B, cfg=cfg, top_k=900, top_p=0.95, g_seed=seed, more_smooth=more_smooth)\n",
    "        print(recon_B3HW)\n",
    "\n",
    "chw = torchvision.utils.make_grid(recon_B3HW, nrow=8, padding=0, pad_value=1.0)\n",
    "chw = chw.permute(1, 2, 0).mul_(255).cpu().numpy()\n",
    "chw = PImage.fromarray(chw.astype(np.uint8))\n",
    "chw.show()\n"
   ]
  }
 ],
 "metadata": {
  "kernelspec": {
   "display_name": ".venv",
   "language": "python",
   "name": "python3"
  },
  "language_info": {
   "codemirror_mode": {
    "name": "ipython",
    "version": 3
   },
   "file_extension": ".py",
   "mimetype": "text/x-python",
   "name": "python",
   "nbconvert_exporter": "python",
   "pygments_lexer": "ipython3",
   "version": "3.10.12"
  }
 },
 "nbformat": 4,
 "nbformat_minor": 0
}
